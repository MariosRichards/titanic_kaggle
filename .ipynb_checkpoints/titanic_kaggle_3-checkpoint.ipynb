{
 "cells": [
  {
   "cell_type": "raw",
   "metadata": {},
   "source": [
    "SETUP"
   ]
  },
  {
   "cell_type": "raw",
   "metadata": {},
   "source": [
    "General control process\n",
    "- branches at every data-changing choice\n",
    "- delta-style evaluation (did the last change improve things or not?)"
   ]
  },
  {
   "cell_type": "code",
   "execution_count": 262,
   "metadata": {
    "collapsed": true
   },
   "outputs": [],
   "source": [
    "import re, operator\n",
    "import pandas as pd\n",
    "\n",
    "import numpy as np\n",
    "import matplotlib.pyplot as plt\n",
    "%matplotlib inline\n",
    "\n",
    "from sklearn import cross_validation\n",
    "from sklearn.cross_validation import KFold\n",
    "from sklearn.linear_model import LinearRegression\n",
    "from sklearn.linear_model import LogisticRegression\n",
    "from sklearn.ensemble import RandomForestClassifier\n",
    "from sklearn.ensemble import GradientBoostingClassifier\n",
    "from sklearn.feature_selection import SelectKBest, f_classif\n",
    "from sklearn.preprocessing import StandardScaler"
   ]
  },
  {
   "cell_type": "code",
   "execution_count": 263,
   "metadata": {
    "collapsed": false
   },
   "outputs": [],
   "source": [
    "# https://www.dataquest.io/mission/74/getting-started-with-kaggle/\n",
    "# Getting Started With Kaggle\n",
    "titanic = pd.read_csv(\"titanic_train.csv\")\n",
    "titanic_test = pd.read_csv(\"titanic_test.csv\")\n",
    "titanic_full = pd.concat([titanic_train, titanic_test])"
   ]
  },
  {
   "cell_type": "code",
   "execution_count": null,
   "metadata": {
    "collapsed": true
   },
   "outputs": [],
   "source": [
    "\n",
    "print(titanic.describe())\n",
    "print(\"Missing Values?\")\n",
    "print(len(titanic) - titanic.count())\n",
    "print(\"How many unique values\")\n",
    "print(titanic.apply(pd.Series.nunique))\n",
    "print(\"Column data types\")\n",
    "print(titanic.dtypes)"
   ]
  },
  {
   "cell_type": "code",
   "execution_count": null,
   "metadata": {
    "collapsed": true
   },
   "outputs": [],
   "source": []
  },
  {
   "cell_type": "code",
   "execution_count": null,
   "metadata": {
    "collapsed": true
   },
   "outputs": [],
   "source": []
  },
  {
   "cell_type": "code",
   "execution_count": null,
   "metadata": {
    "collapsed": true
   },
   "outputs": [],
   "source": []
  },
  {
   "cell_type": "code",
   "execution_count": null,
   "metadata": {
    "collapsed": true
   },
   "outputs": [],
   "source": []
  },
  {
   "cell_type": "code",
   "execution_count": null,
   "metadata": {
    "collapsed": true
   },
   "outputs": [],
   "source": []
  },
  {
   "cell_type": "code",
   "execution_count": null,
   "metadata": {
    "collapsed": true
   },
   "outputs": [],
   "source": []
  },
  {
   "cell_type": "code",
   "execution_count": null,
   "metadata": {
    "collapsed": true
   },
   "outputs": [],
   "source": []
  },
  {
   "cell_type": "code",
   "execution_count": 264,
   "metadata": {
    "collapsed": false
   },
   "outputs": [],
   "source": [
    "# [median, mean, mode]\n",
    "# Replace all the NaNs in Age with the median value\n",
    "titanic[\"Age\"] = titanic[\"Age\"].fillna( titanic[\"Age\"].dropna().mode().values[0] )\n"
   ]
  },
  {
   "cell_type": "code",
   "execution_count": 265,
   "metadata": {
    "collapsed": false
   },
   "outputs": [],
   "source": [
    "# Replace all the occurences of male with the number 0.\n",
    "titanic.loc[titanic[\"Sex\"] == \"male\", \"Sex\"] = 0\n",
    "titanic.loc[titanic[\"Sex\"] == \"female\", \"Sex\"] = 1"
   ]
  },
  {
   "cell_type": "code",
   "execution_count": 266,
   "metadata": {
    "collapsed": false
   },
   "outputs": [],
   "source": [
    "# Find all the unique values for \"Embarked\".\n",
    "titanic[\"Embarked\"] = titanic[\"Embarked\"].fillna(\"S\")\n",
    "titanic.loc[titanic[\"Embarked\"] == \"S\", \"Embarked\"] = 0\n",
    "titanic.loc[titanic[\"Embarked\"] == \"C\", \"Embarked\"] = 1\n",
    "titanic.loc[titanic[\"Embarked\"] == \"Q\", \"Embarked\"] = 2"
   ]
  },
  {
   "cell_type": "code",
   "execution_count": null,
   "metadata": {
    "collapsed": true
   },
   "outputs": [],
   "source": []
  },
  {
   "cell_type": "raw",
   "metadata": {},
   "source": [
    "FEATURE GENERATION"
   ]
  },
  {
   "cell_type": "code",
   "execution_count": null,
   "metadata": {
    "collapsed": true
   },
   "outputs": [],
   "source": []
  },
  {
   "cell_type": "code",
   "execution_count": null,
   "metadata": {
    "collapsed": true
   },
   "outputs": [],
   "source": []
  },
  {
   "cell_type": "code",
   "execution_count": 267,
   "metadata": {
    "collapsed": true
   },
   "outputs": [],
   "source": [
    "# Generating a familysize column\n",
    "titanic[\"FamilySize\"] = titanic[\"SibSp\"] + titanic[\"Parch\"]\n",
    "\n",
    "# The .apply method generates a new series\n",
    "titanic[\"NameLength\"] = titanic[\"Name\"].apply(lambda x: len(x))"
   ]
  },
  {
   "cell_type": "code",
   "execution_count": 268,
   "metadata": {
    "collapsed": false
   },
   "outputs": [],
   "source": [
    "# A function to get the title from a name.\n",
    "def get_title(name):\n",
    "    # Use a regular expression to search for a title.  Titles always consist of capital and lowercase letters, and end with a period.\n",
    "    title_search = re.search(' ([A-Za-z]+)\\.', name)\n",
    "    # If the title exists, extract and return it.\n",
    "    if title_search:\n",
    "        return title_search.group(1)\n",
    "    return \"\"\n",
    "\n",
    "# Get all the titles and print how often each one occurs.\n",
    "titles = titanic[\"Name\"].apply(get_title)\n",
    "#print(pd.value_counts(titles))\n",
    "\n",
    "# Map each title to an integer.  Some titles are very rare, and are compressed into the same codes as other titles.\n",
    "title_mapping = {\"Mr\": 1, \"Miss\": 2, \"Mrs\": 3, \"Master\": 4, \"Dr\": 5, \"Rev\": 6, \"Major\": 7, \"Col\": 7, \"Mlle\": 8, \"Mme\": 8, \"Don\": 9, \"Lady\": 10, \"Countess\": 10, \"Jonkheer\": 10, \"Sir\": 9, \"Capt\": 7, \"Ms\": 2}\n",
    "for k,v in title_mapping.items():\n",
    "    titles[titles == k] = v\n",
    "\n",
    "# Verify that we converted everything.\n",
    "#print(pd.value_counts(titles))\n",
    "\n",
    "# Add in the title column.\n",
    "titanic[\"Title\"] = titles"
   ]
  },
  {
   "cell_type": "code",
   "execution_count": 269,
   "metadata": {
    "collapsed": false
   },
   "outputs": [],
   "source": [
    "# A dictionary mapping family name to id\n",
    "family_id_mapping = {}\n",
    "\n",
    "# A function to get the id given a row\n",
    "def get_family_id(row):\n",
    "    # Find the last name by splitting on a comma\n",
    "    last_name = row[\"Name\"].split(\",\")[0]\n",
    "    # Create the family id\n",
    "    family_id = \"{0}{1}\".format(last_name, row[\"FamilySize\"])\n",
    "    # Look up the id in the mapping\n",
    "    if family_id not in family_id_mapping:\n",
    "        if len(family_id_mapping) == 0:\n",
    "            current_id = 1\n",
    "        else:\n",
    "            # Get the maximum id from the mapping and add one to it if we don't have an id\n",
    "            current_id = (max(family_id_mapping.items(), key=operator.itemgetter(1))[1] + 1)\n",
    "        family_id_mapping[family_id] = current_id\n",
    "    return family_id_mapping[family_id]\n",
    "\n",
    "# Get the family ids with the apply method\n",
    "family_ids = titanic.apply(get_family_id, axis=1)\n",
    "\n",
    "# There are a lot of family ids, so we'll compress all of the families under 3 members into one code.\n",
    "family_ids[titanic[\"FamilySize\"] < 3] = -1\n",
    "\n",
    "# Print the count of each unique id.\n",
    "#print(pd.value_counts(family_ids))\n",
    "\n",
    "titanic[\"FamilyId\"] = family_ids"
   ]
  },
  {
   "cell_type": "code",
   "execution_count": 270,
   "metadata": {
    "collapsed": false
   },
   "outputs": [
    {
     "name": "stdout",
     "output_type": "stream",
     "text": [
      "       Pclass       Sex       Age     SibSp     Parch      Fare  Embarked  \\\n",
      "0    0.827377 -0.737695 -0.497793  0.432793 -0.473674 -0.502445 -0.568837   \n",
      "1   -1.566107  1.355574  0.715048  0.432793 -0.473674  0.786845  1.005181   \n",
      "2    0.827377  1.355574 -0.194583 -0.474545 -0.473674 -0.488854 -0.568837   \n",
      "3   -1.566107  1.355574  0.487640  0.432793 -0.473674  0.420730 -0.568837   \n",
      "4    0.827377 -0.737695  0.487640 -0.474545 -0.473674 -0.486337 -0.568837   \n",
      "5    0.827377 -0.737695 -0.346188 -0.474545 -0.473674 -0.478116  2.579199   \n",
      "6   -1.566107 -0.737695  1.927889 -0.474545 -0.473674  0.395814 -0.568837   \n",
      "7    0.827377 -0.737695 -2.013845  2.247470  0.767630 -0.224083 -0.568837   \n",
      "8    0.827377  1.355574 -0.118780 -0.474545  2.008933 -0.424256 -0.568837   \n",
      "9   -0.369365  1.355574 -1.104214  0.432793 -0.473674 -0.042956  1.005181   \n",
      "10   0.827377  1.355574 -1.862240  0.432793  0.767630 -0.312172 -0.568837   \n",
      "11  -1.566107  1.355574  2.231100 -0.474545 -0.473674 -0.113846 -0.568837   \n",
      "12   0.827377 -0.737695 -0.649398 -0.474545 -0.473674 -0.486337 -0.568837   \n",
      "13   0.827377 -0.737695  0.790851  0.432793  5.732844 -0.018709 -0.568837   \n",
      "14   0.827377  1.355574 -1.104214 -0.474545 -0.473674 -0.490280 -0.568837   \n",
      "15  -0.369365  1.355574  2.003692 -0.474545 -0.473674 -0.326267 -0.568837   \n",
      "16   0.827377 -0.737695 -2.013845  3.154809  0.767630 -0.061999  2.579199   \n",
      "17  -0.369365 -0.737695 -0.346188 -0.474545 -0.473674 -0.386671 -0.568837   \n",
      "18   0.827377  1.355574  0.184430  0.432793 -0.473674 -0.285997 -0.568837   \n",
      "19   0.827377  1.355574 -0.346188 -0.474545 -0.473674 -0.502949  1.005181   \n",
      "20  -0.369365 -0.737695  0.487640 -0.474545 -0.473674 -0.124920 -0.568837   \n",
      "21  -0.369365 -0.737695  0.411838 -0.474545 -0.473674 -0.386671 -0.568837   \n",
      "22   0.827377  1.355574 -1.028411 -0.474545 -0.473674 -0.486756  2.579199   \n",
      "23  -1.566107 -0.737695 -0.042978 -0.474545 -0.473674  0.066360 -0.568837   \n",
      "24   0.827377  1.355574 -1.559029  2.247470  0.767630 -0.224083 -0.568837   \n",
      "25   0.827377  1.355574  0.715048  0.432793  5.732844 -0.016444 -0.568837   \n",
      "26   0.827377 -0.737695 -0.346188 -0.474545 -0.473674 -0.502949  1.005181   \n",
      "27  -1.566107 -0.737695 -0.725201  2.247470  2.008933  4.647001 -0.568837   \n",
      "28   0.827377  1.355574 -0.346188 -0.474545 -0.473674 -0.489776  2.579199   \n",
      "29   0.827377 -0.737695 -0.346188 -0.474545 -0.473674 -0.489442 -0.568837   \n",
      "..        ...       ...       ...       ...       ...       ...       ...   \n",
      "861 -0.369365 -0.737695 -0.573596  0.432793 -0.473674 -0.416873 -0.568837   \n",
      "862 -1.566107  1.355574  1.473074 -0.474545 -0.473674 -0.126345 -0.568837   \n",
      "863  0.827377  1.355574 -0.346188  6.784163  2.008933  0.751946 -0.568837   \n",
      "864 -0.369365 -0.737695 -0.346188 -0.474545 -0.473674 -0.386671 -0.568837   \n",
      "865 -0.369365  1.355574  1.018258 -0.474545 -0.473674 -0.386671 -0.568837   \n",
      "866 -0.369365  1.355574 -0.118780  0.432793 -0.473674 -0.369389  1.005181   \n",
      "867 -1.566107 -0.737695  0.184430 -0.474545 -0.473674  0.368295 -0.568837   \n",
      "868  0.827377 -0.737695 -0.346188 -0.474545 -0.473674 -0.457142 -0.568837   \n",
      "869  0.827377 -0.737695 -1.862240  0.432793  0.767630 -0.424256 -0.568837   \n",
      "870  0.827377 -0.737695 -0.194583 -0.474545 -0.473674 -0.489442 -0.568837   \n",
      "871 -1.566107  1.355574  1.397271  0.432793  0.767630  0.409741 -0.568837   \n",
      "872 -1.566107 -0.737695  0.336035 -0.474545 -0.473674 -0.547748 -0.568837   \n",
      "873  0.827377 -0.737695  1.397271 -0.474545 -0.473674 -0.467209 -0.568837   \n",
      "874 -0.369365  1.355574 -0.042978  0.432793 -0.473674 -0.165189  1.005181   \n",
      "875  0.827377  1.355574 -1.028411 -0.474545 -0.473674 -0.502949  1.005181   \n",
      "876  0.827377 -0.737695 -0.649398 -0.474545 -0.473674 -0.450180 -0.568837   \n",
      "877  0.827377 -0.737695 -0.725201 -0.474545 -0.473674 -0.489442 -0.568837   \n",
      "878  0.827377 -0.737695 -0.346188 -0.474545 -0.473674 -0.489442 -0.568837   \n",
      "879 -1.566107  1.355574  2.079495 -0.474545  0.767630  1.025945  1.005181   \n",
      "880 -0.369365  1.355574 -0.270386 -0.474545  0.767630 -0.124920 -0.568837   \n",
      "881  0.827377 -0.737695  0.336035 -0.474545 -0.473674 -0.489442 -0.568837   \n",
      "882  0.827377  1.355574 -0.497793 -0.474545 -0.473674 -0.436671 -0.568837   \n",
      "883 -0.369365 -0.737695 -0.042978 -0.474545 -0.473674 -0.437007 -0.568837   \n",
      "884  0.827377 -0.737695 -0.270386 -0.474545 -0.473674 -0.506472 -0.568837   \n",
      "885  0.827377  1.355574  0.790851 -0.474545  5.732844 -0.061999  2.579199   \n",
      "886 -0.369365 -0.737695 -0.118780 -0.474545 -0.473674 -0.386671 -0.568837   \n",
      "887 -1.566107  1.355574 -0.725201 -0.474545 -0.473674 -0.044381 -0.568837   \n",
      "888  0.827377  1.355574 -0.346188  0.432793  2.008933 -0.176263 -0.568837   \n",
      "889 -1.566107 -0.737695 -0.194583 -0.474545 -0.473674 -0.044381  1.005181   \n",
      "890  0.827377 -0.737695  0.260233 -0.474545 -0.473674 -0.492378  2.579199   \n",
      "\n",
      "     FamilySize     Title  FamilyId  Survived  \n",
      "0      0.059160 -0.621285 -0.218081         0  \n",
      "1      0.059160  0.949111 -0.218081         1  \n",
      "2     -0.560975  0.163913 -0.218081         1  \n",
      "3      0.059160  0.949111 -0.218081         1  \n",
      "4     -0.560975 -0.621285 -0.218081         0  \n",
      "5     -0.560975 -0.621285 -0.218081         0  \n",
      "6     -0.560975 -0.621285 -0.218081         0  \n",
      "7      1.919564  1.734309 -0.089228         0  \n",
      "8      0.679295  0.949111 -0.218081         1  \n",
      "9      0.059160  0.949111 -0.218081         1  \n",
      "10     0.679295  0.163913 -0.218081         1  \n",
      "11    -0.560975  0.163913 -0.218081         1  \n",
      "12    -0.560975 -0.621285 -0.218081         0  \n",
      "13     3.159833 -0.621285 -0.003326         0  \n",
      "14    -0.560975  0.163913 -0.218081         0  \n",
      "15    -0.560975  0.949111 -0.218081         1  \n",
      "16     2.539699  1.734309  0.039625         0  \n",
      "17    -0.560975 -0.621285 -0.218081         1  \n",
      "18     0.059160  0.949111 -0.218081         0  \n",
      "19    -0.560975  0.949111 -0.218081         1  \n",
      "20    -0.560975 -0.621285 -0.218081         0  \n",
      "21    -0.560975 -0.621285 -0.218081         1  \n",
      "22    -0.560975  0.163913 -0.218081         1  \n",
      "23    -0.560975 -0.621285 -0.218081         1  \n",
      "24     1.919564  0.163913 -0.089228         0  \n",
      "25     3.159833  0.949111  0.154161         1  \n",
      "26    -0.560975 -0.621285 -0.218081         0  \n",
      "27     2.539699 -0.621285  0.182795         0  \n",
      "28    -0.560975  0.163913 -0.218081         1  \n",
      "29    -0.560975 -0.621285 -0.218081         0  \n",
      "..          ...       ...       ...       ...  \n",
      "861    0.059160 -0.621285 -0.218081         0  \n",
      "862   -0.560975  0.949111 -0.218081         1  \n",
      "863    5.640372  0.163913  1.929466         0  \n",
      "864   -0.560975 -0.621285 -0.218081         0  \n",
      "865   -0.560975  0.949111 -0.218081         1  \n",
      "866    0.059160  0.163913 -0.218081         1  \n",
      "867   -0.560975 -0.621285 -0.218081         0  \n",
      "868   -0.560975 -0.621285 -0.218081         0  \n",
      "869    0.679295  1.734309 -0.218081         1  \n",
      "870   -0.560975 -0.621285 -0.218081         0  \n",
      "871    0.679295  0.949111 -0.218081         1  \n",
      "872   -0.560975 -0.621285 -0.218081         0  \n",
      "873   -0.560975 -0.621285 -0.218081         0  \n",
      "874    0.059160  0.949111 -0.218081         1  \n",
      "875   -0.560975  0.163913 -0.218081         1  \n",
      "876   -0.560975 -0.621285 -0.218081         0  \n",
      "877   -0.560975 -0.621285 -0.218081         0  \n",
      "878   -0.560975 -0.621285 -0.218081         0  \n",
      "879    0.059160  0.949111 -0.218081         1  \n",
      "880    0.059160  0.949111 -0.218081         1  \n",
      "881   -0.560975 -0.621285 -0.218081         0  \n",
      "882   -0.560975  0.163913 -0.218081         0  \n",
      "883   -0.560975 -0.621285 -0.218081         0  \n",
      "884   -0.560975 -0.621285 -0.218081         0  \n",
      "885    2.539699  0.949111  0.039625         0  \n",
      "886   -0.560975  3.304705 -0.218081         0  \n",
      "887   -0.560975  0.163913 -0.218081         1  \n",
      "888    1.299429  0.163913  8.858884         0  \n",
      "889   -0.560975 -0.621285 -0.218081         1  \n",
      "890   -0.560975 -0.621285 -0.218081         0  \n",
      "\n",
      "[891 rows x 11 columns]\n"
     ]
    }
   ],
   "source": [
    "predictors = [\"Pclass\", \"Sex\", \"Age\", \"SibSp\", \"Parch\", \"Fare\", \"Embarked\", \"FamilySize\", \"Title\", \"FamilyId\"]\n",
    "#predictors.append(\"Survived\")\n",
    "num_tit = titanic[predictors]\n",
    "cols = num_tit.columns.values\n",
    "num_tit_scaled = StandardScaler().fit_transform(num_tit)\n",
    "\n",
    "titanic = pd.concat([pd.DataFrame(num_tit_scaled,columns = cols), titanic[\"Survived\"]], axis=1)\n"
   ]
  },
  {
   "cell_type": "raw",
   "metadata": {},
   "source": [
    "DATA EXPLORATION"
   ]
  },
  {
   "cell_type": "code",
   "execution_count": 271,
   "metadata": {
    "collapsed": false
   },
   "outputs": [
    {
     "name": "stdout",
     "output_type": "stream",
     "text": [
      "[ 24.59567142  68.85199425   0.94016524   0.5342545    1.82976043\n",
      "  14.21323514   2.85130099   0.20768458  26.98338607   1.87160041]\n"
     ]
    },
    {
     "data": {
      "image/png": "[encoded data removed]",
      "text/plain": [
       "<matplotlib.figure.Figure at 0xd76f630>"
      ]
     },
     "metadata": {},
     "output_type": "display_data"
    },
    {
     "name": "stdout",
     "output_type": "stream",
     "text": [
      "0.812570145903\n",
      "0.830527497194\n"
     ]
    }
   ],
   "source": [
    "predictors = [\"Pclass\", \"Sex\", \"Age\", \"SibSp\", \"Parch\", \"Fare\", \"Embarked\", \"FamilySize\", \"Title\", \"FamilyId\"]\n",
    "\n",
    "# Perform feature selection\n",
    "selector = SelectKBest(f_classif, k=5)\n",
    "selector.fit(titanic[predictors], titanic[\"Survived\"])\n",
    "\n",
    "# Get the raw p-values for each feature, and transform from p-values into scores\n",
    "scores = -np.log10(selector.pvalues_)\n",
    "print(scores)\n",
    "\n",
    "\n",
    "# Plot the scores.  See how \"Pclass\", \"Sex\", \"Title\", and \"Fare\" are the best?\n",
    "plt.bar(range(len(predictors)), scores)\n",
    "plt.xticks(range(len(predictors)), predictors, rotation='vertical')\n",
    "plt.show()\n",
    "\n",
    "# Pick only the four best features.\n",
    "top_score_indices = np.argsort(scores)[::-1][0:4]\n",
    "top_score_predictors = [predictors[i] for i in top_score_indices]\n",
    "\n",
    "alg = RandomForestClassifier(random_state=1, n_estimators=150, min_samples_split=8, min_samples_leaf=4)\n",
    "scores = cross_validation.cross_val_score(alg, titanic[top_score_predictors], titanic[\"Survived\"], cv=3)\n",
    "# Take the mean of the scores (because we have one for each fold)\n",
    "print(scores.mean())\n",
    "\n",
    "alg = RandomForestClassifier(random_state=1, n_estimators=150, min_samples_split=8, min_samples_leaf=4)\n",
    "scores = cross_validation.cross_val_score(alg, titanic[predictors], titanic[\"Survived\"], cv=3)\n",
    "# Take the mean of the scores (because we have one for each fold)\n",
    "print(scores.mean())"
   ]
  },
  {
   "cell_type": "code",
   "execution_count": null,
   "metadata": {
    "collapsed": true
   },
   "outputs": [],
   "source": [
    "CORRELATION MATRIX"
   ]
  },
  {
   "cell_type": "code",
   "execution_count": 284,
   "metadata": {
    "collapsed": false
   },
   "outputs": [
    {
     "data": {
      "text/plain": [
       "<matplotlib.image.AxesImage at 0xda6ae80>"
      ]
     },
     "execution_count": 284,
     "metadata": {},
     "output_type": "execute_result"
    },
    {
     "data": {
      "image/png": "[encoded data removed]",
      "text/plain": [
       "<matplotlib.figure.Figure at 0xcd2ddd8>"
      ]
     },
     "metadata": {},
     "output_type": "display_data"
    }
   ],
   "source": [
    "plt.matshow(titanic.corr())"
   ]
  },
  {
   "cell_type": "code",
   "execution_count": 370,
   "metadata": {
    "collapsed": false
   },
   "outputs": [
    {
     "name": "stdout",
     "output_type": "stream",
     "text": [
      "Pclass []\n",
      "Sex [(-13, 'Pclass')]\n",
      "Age [(-35, 'Pclass')]\n",
      "SibSp [(-23, 'Age')]\n",
      "Parch [(41, 'SibSp'), (24, 'Sex'), (-15, 'Age')]\n",
      "Fare [(-54, 'Pclass'), (21, 'Parch')]\n",
      "Embarked []\n",
      "FamilySize [(89, 'SibSp'), (78, 'Parch'), (-23, 'Age'), (21, 'Fare'), (20, 'Sex')]\n",
      "Title [(41, 'Sex'), (25, 'FamilySize'), (23, 'Parch'), (-21, 'Pclass'), (20, 'SibSp')]\n",
      "FamilyId [(42, 'FamilySize'), (39, 'Parch'), (33, 'SibSp'), (-10, 'Age')]\n",
      "Survived [(54, 'Sex'), (35, 'Title'), (-33, 'Pclass'), (25, 'Fare')]\n"
     ]
    },
    {
     "data": {
      "image/png": "[encoded data removed]",
      "text/plain": [
       "<matplotlib.figure.Figure at 0xdc35908>"
      ]
     },
     "metadata": {},
     "output_type": "display_data"
    },
    {
     "data": {
      "image/png": "[encoded data removed]",
      "text/plain": [
       "<matplotlib.figure.Figure at 0xe68fe80>"
      ]
     },
     "metadata": {},
     "output_type": "display_data"
    }
   ],
   "source": [
    "def plot_corr(df,size=12,corr_neg_min=.1,corr_pos_min=.2):\n",
    "    '''Function plots a graphical correlation matrix for each pair of columns in the dataframe.\n",
    "\n",
    "    Input:\n",
    "        df: pandas DataFrame\n",
    "        size: vertical and horizontal size of the plot'''\n",
    "\n",
    "    corr = df.corr()\n",
    "    plt.hist(corr.values)\n",
    "    # upper/lower triangular mask - done!\n",
    "    masked_corr = np.ma.array (corr, mask= ( (corr<=corr_pos_min) & (corr>=-corr_neg_min) | (corr==1) ) | (np.tril(corr).astype(bool)) )\n",
    "    cmap = plt.cm.jet\n",
    "    cmap.set_bad('w',1.)\n",
    "    #corr[np.absolute(corr)<.1]=0\n",
    "    fig, ax = plt.subplots(figsize=(size, size))\n",
    "    ax = ax.matshow(masked_corr)\n",
    "    fig.colorbar(ax)\n",
    "    plt.xticks(range(len(corr.columns)), corr.columns);\n",
    "    plt.yticks(range(len(corr.columns)), corr.columns);\n",
    "    \n",
    "    col_count = 0\n",
    "    for col in corr.columns:\n",
    "        corr_row = corr[col]\n",
    "        line_str = str(col)\n",
    "        line_dict = dict()\n",
    "        row_count = 0\n",
    "        for el in corr[col]:\n",
    "            if (el!=1) & ( (el>corr_pos_min) | (el<-corr_neg_min) ) & (col_count>row_count):\n",
    "                line_str += str(el)\n",
    "                line_dict[corr.columns[row_count]] = el\n",
    "            row_count +=1\n",
    "        def t_abs(x):\n",
    "            k,v = x\n",
    "            return(abs(k))\n",
    "        line_tup = sorted( ((int(100*v),k) for k,v in line_dict.items()), reverse=True, key=t_abs)\n",
    "        print(col,line_tup)\n",
    "        col_count +=1\n",
    "        #print( '{:.3f} {:s}'.format(*line_tup[0]) )\n",
    "        # print '{:.3f} {:.3f}'.format(*z)\n",
    "        #print(line_dict)\n",
    "\n",
    "plot_corr(titanic)"
   ]
  },
  {
   "cell_type": "raw",
   "metadata": {},
   "source": [
    "PCA/LDA\n",
    "(both try to reduce dimensionality by projecting onto a reduced set of dimension which maximise variance - but LDA does this respect to groups)\n",
    "http://sebastianraschka.com/Articles/2015_pca_in_3_steps.html"
   ]
  },
  {
   "cell_type": "code",
   "execution_count": 402,
   "metadata": {
    "collapsed": false
   },
   "outputs": [
    {
     "name": "stdout",
     "output_type": "stream",
     "text": [
      "{'Survived': 1, 'Died': 0}\n",
      "['Pclass' 'Sex' 'Age' 'SibSp' 'Parch' 'Fare' 'Embarked']\n"
     ]
    },
    {
     "data": {
      "image/png": "[encoded data removed]",
      "text/plain": [
       "<matplotlib.figure.Figure at 0xd6fdb70>"
      ]
     },
     "metadata": {},
     "output_type": "display_data"
    }
   ],
   "source": [
    "import math\n",
    "predictors = [\"Pclass\", \"Sex\", \"Age\", \"SibSp\", \"Parch\", \"Fare\", \"Embarked\"]\n",
    "num_predictors = len(predictors)\n",
    "display_square_side = np.ceil(np.sqrt(num_predictors))\n",
    "# print(titanic)\n",
    "# print(titanic[\"Survived\"])\n",
    "X = titanic[predictors]\n",
    "\n",
    "y = titanic[\"Survived\"] # labels Survived/Not Survived\n",
    "\n",
    "\n",
    "label_dict = {0: 'Died',\n",
    "              1: 'Survived'}\n",
    "\n",
    "inv_label_dict = {v: k for k, v in label_dict.items()}\n",
    "# print(inv_label_dict)\n",
    "\n",
    "# feature_dict = {0: 'sepal length [cm]',\n",
    "#                 1: 'sepal width [cm]',\n",
    "#                 2: 'petal length [cm]',\n",
    "#                 3: 'petal width [cm]'}\n",
    "feature_dict = titanic[predictors].columns.values\n",
    "# print(feature_dict)\n",
    "\n",
    "with plt.style.context('seaborn-whitegrid'):\n",
    "    plt.figure(figsize=(15, 15))\n",
    "    for cnt in range( num_predictors ):\n",
    "        plt.subplot(display_square_side, display_square_side, cnt+1)\n",
    "        for lab in label_dict.values():\n",
    "\n",
    "            plt.hist(X[predictors[cnt]][y==inv_label_dict[lab]],\n",
    "                     label=lab,\n",
    "                     bins=10,\n",
    "                     alpha=0.3,)\n",
    "        plt.xlabel(feature_dict[cnt])\n",
    "        plt.legend(loc='upper right', fancybox=True, fontsize=8)\n",
    "\n",
    "    plt.tight_layout()\n",
    "    plt.show()"
   ]
  },
  {
   "cell_type": "code",
   "execution_count": 410,
   "metadata": {
    "collapsed": false
   },
   "outputs": [
    {
     "name": "stdout",
     "output_type": "stream",
     "text": [
      "NumPy covariance matrix: \n",
      "[[ 1.0011236  -0.13204869 -0.35658749  0.08317471  0.01846339 -0.55011704\n",
      "   0.0457532 ]\n",
      " [-0.13204869  1.0011236  -0.0734592   0.11475961  0.24576479  0.1825377\n",
      "   0.11670041]\n",
      " [-0.35658749 -0.0734592   1.0011236  -0.23267168 -0.15529209  0.10767488\n",
      "  -0.04767817]\n",
      " [ 0.08317471  0.11475961 -0.23267168  1.0011236   0.41530381  0.15983043\n",
      "  -0.06002881]\n",
      " [ 0.01846339  0.24576479 -0.15529209  0.41530381  1.0011236   0.21646789\n",
      "  -0.07875308]\n",
      " [-0.55011704  0.1825377   0.10767488  0.15983043  0.21646789  1.0011236\n",
      "   0.06221139]\n",
      " [ 0.0457532   0.11670041 -0.04767817 -0.06002881 -0.07875308  0.06221139\n",
      "   1.0011236 ]]\n",
      "Eigenvectors \n",
      "[[ 0.46416125 -0.48336137 -0.69935159  0.06878742  0.06430447 -0.22365036\n",
      "   0.05419611]\n",
      " [-0.3815168  -0.14187631 -0.09892936  0.41723634 -0.26370144  0.0607963\n",
      "   0.75974221]\n",
      " [-0.07716417  0.55227193 -0.20768997 -0.17056293 -0.13405729 -0.76008574\n",
      "   0.1453027 ]\n",
      " [-0.32064408 -0.47811316  0.08529061 -0.21019953 -0.66878435 -0.237425\n",
      "  -0.33688828]\n",
      " [-0.41915813 -0.4180523   0.18188296 -0.16610207  0.6643096  -0.37418434\n",
      "   0.08686923]\n",
      " [-0.59540623  0.19418594 -0.63018325  0.03068114  0.12844151  0.27931277\n",
      "  -0.33940852]\n",
      " [-0.0054962   0.01266965  0.14317255  0.84815997  0.05725523 -0.30684494\n",
      "  -0.40311732]]\n",
      "\n",
      "Eigenvalues \n",
      "[ 1.79993576  1.68783463  0.35652583  1.10438103  0.55365533  0.69413246\n",
      "  0.81140013]\n",
      "Eigenvalues in descending order:\n",
      "1.79993576132\n",
      "1.68783462747\n",
      "1.10438102593\n",
      "0.811400134356\n",
      "0.69413246117\n",
      "0.553655331524\n",
      "0.356525826765\n"
     ]
    },
    {
     "data": {
      "image/png": "[encoded data removed]",
      "text/plain": [
       "<matplotlib.figure.Figure at 0xdfbfd30>"
      ]
     },
     "metadata": {},
     "output_type": "display_data"
    }
   ],
   "source": [
    "# I think the stuff has already been standardised!\n",
    "from sklearn.preprocessing import StandardScaler\n",
    "X_std = StandardScaler().fit_transform(X)\n",
    "\n",
    "print('NumPy covariance matrix: \\n%s' %np.cov(X_std.T))\n",
    "cov_mat = np.cov(X_std.T)\n",
    "\n",
    "eig_vals, eig_vecs = np.linalg.eig(cov_mat)\n",
    "\n",
    "print('Eigenvectors \\n%s' %eig_vecs)\n",
    "print('\\nEigenvalues \\n%s' %eig_vals)\n",
    "\n",
    "u,s,v = np.linalg.svd(X_std.T)\n",
    "# [\"Pclass\", \"Sex\", \"Age\", \"SibSp\", \"Parch\", \"Fare\", \"Embarked\"]\n",
    "# Make a list of (eigenvalue, eigenvector) tuples\n",
    "eig_pairs = [(np.abs(eig_vals[i]), eig_vecs[:,i]) for i in range(len(eig_vals))]\n",
    "\n",
    "# Sort the (eigenvalue, eigenvector) tuples from high to low\n",
    "eig_pairs.sort()\n",
    "eig_pairs.reverse()\n",
    "\n",
    "# Visually confirm that the list is correctly sorted by decreasing eigenvalues\n",
    "print('Eigenvalues in descending order:')\n",
    "for i in eig_pairs:\n",
    "    print(i[0])\n",
    "    \n",
    "    \n",
    "tot = sum(eig_vals)\n",
    "var_exp = [(i / tot)*100 for i in sorted(eig_vals, reverse=True)]\n",
    "cum_var_exp = np.cumsum(var_exp)\n",
    "with plt.style.context('seaborn-whitegrid'):\n",
    "    plt.figure(figsize=(6, 4))\n",
    "\n",
    "    plt.bar(range(num_predictors), var_exp, alpha=0.5, align='center',\n",
    "            label='individual explained variance')\n",
    "    plt.step(range(num_predictors), cum_var_exp, where='mid',\n",
    "             label='cumulative explained variance')\n",
    "    plt.ylabel('Explained variance ratio')\n",
    "    plt.xlabel('Principal components')\n",
    "    plt.legend(loc='best')\n",
    "    plt.tight_layout()    "
   ]
  },
  {
   "cell_type": "code",
   "execution_count": 426,
   "metadata": {
    "collapsed": false
   },
   "outputs": [
    {
     "name": "stdout",
     "output_type": "stream",
     "text": [
      "Matrix W:\n",
      " [[ 0.46416125 -0.48336137]\n",
      " [-0.3815168  -0.14187631]\n",
      " [-0.07716417  0.55227193]\n",
      " [-0.32064408 -0.47811316]\n",
      " [-0.41915813 -0.4180523 ]\n",
      " [-0.59540623  0.19418594]\n",
      " [-0.0054962   0.01266965]]\n"
     ]
    },
    {
     "data": {
      "image/png": "[encoded data removed]",
      "text/plain": [
       "<matplotlib.figure.Figure at 0xfbceef0>"
      ]
     },
     "metadata": {},
     "output_type": "display_data"
    }
   ],
   "source": [
    "# projection to 2 principal components\n",
    "matrix_w = np.hstack((eig_pairs[0][1].reshape(num_predictors,1),\n",
    "                      eig_pairs[1][1].reshape(num_predictors,1)))\n",
    "\n",
    "print('Matrix W:\\n', matrix_w)\n",
    "\n",
    "\n",
    "X_PCA = X_std.dot(matrix_w)\n",
    "with plt.style.context('seaborn-whitegrid'):\n",
    "    plt.figure(figsize=(6, 4))\n",
    "    for lab, col in zip(label_dict.values(),\n",
    "                        ('blue', 'red', 'green')):\n",
    "        #X[predictors[cnt]][y==inv_label_dict[lab]]\n",
    "        # X_PCA[predictors][y==inv_label_dict[lab], 0]\n",
    "        #print(inv_label_dict[lab])\n",
    "        #print(y==(inv_label_dict[lab]))\n",
    "        \n",
    "        plt.scatter(X_PCA[np.ix_(y==inv_label_dict[lab]), 0],\n",
    "                    X_PCA[np.ix_(y==inv_label_dict[lab]), 1],\n",
    "                    label=lab,\n",
    "                    c=col)\n",
    "    plt.xlabel('Principal Component 1')\n",
    "    plt.ylabel('Principal Component 2')\n",
    "    plt.legend(loc='lower left')\n",
    "    plt.tight_layout()\n",
    "    plt.show()"
   ]
  },
  {
   "cell_type": "code",
   "execution_count": 432,
   "metadata": {
    "collapsed": false
   },
   "outputs": [
    {
     "data": {
      "image/png": "[encoded data removed]",
      "text/plain": [
       "<matplotlib.figure.Figure at 0xa19d7f0>"
      ]
     },
     "metadata": {},
     "output_type": "display_data"
    }
   ],
   "source": [
    "from sklearn.decomposition import PCA as sklearnPCA\n",
    "sklearn_pca = sklearnPCA(n_components=2)\n",
    "\n",
    "Y_sklearn = sklearn_pca.fit_transform(X_std)\n",
    "\n",
    "with plt.style.context('seaborn-whitegrid'):\n",
    "    plt.figure(figsize=(6, 4))\n",
    "    for lab, col in zip(label_dict.values(),\n",
    "                        ('blue', 'red')):\n",
    "        plt.scatter(Y_sklearn[np.ix_(y==inv_label_dict[lab]), 0],\n",
    "                    Y_sklearn[np.ix_(y==inv_label_dict[lab]), 1],\n",
    "                    label=lab,\n",
    "                    c=col)\n",
    "    plt.xlabel('Principal Component 1')\n",
    "    plt.ylabel('Principal Component 2')\n",
    "    plt.legend(loc='lower left')\n",
    "    plt.tight_layout()\n",
    "    plt.show()"
   ]
  },
  {
   "cell_type": "raw",
   "metadata": {},
   "source": [
    "TRANSFORMS\n",
    "Try to find functional transforms to make features more 'normal'\n",
    "\n",
    "http://shahramabyari.com/2015/12/21/data-preparation-for-predictive-modeling-resolving-skewness/\n",
    "\n",
    "\n",
    "(1) Dumb solution\n",
    "\n",
    "\n",
    "\n",
    "(2) Convert from distribution to distribution\n",
    "\n",
    "\n",
    "\n",
    "\n",
    "(3) Generic solution\n",
    "-(3.1) Box-Cox Transform\n",
    "https://en.wikipedia.org/wiki/Power_transform\n",
    "http://scipy.github.io/devdocs/generated/scipy.stats.boxcox.html\n",
    "http://docs.scipy.org/doc/scipy-0.14.0/reference/generated/scipy.stats.boxcox_normplot.html\n",
    "\n",
    "* Generalises logs/sqrts/invs with parameter\n",
    "* Only easily application to positive data\n"
   ]
  },
  {
   "cell_type": "code",
   "execution_count": null,
   "metadata": {
    "collapsed": true
   },
   "outputs": [],
   "source": []
  },
  {
   "cell_type": "code",
   "execution_count": null,
   "metadata": {
    "collapsed": true
   },
   "outputs": [],
   "source": []
  },
  {
   "cell_type": "raw",
   "metadata": {},
   "source": [
    "IMPUTATION\n",
    "Missing Values\n",
    "* Which machine learning algorithms can/cannot handle NaNs???? When they do, is it better to impute or leave it NaN?\n",
    "- Dumb Solutions\n",
    "* Encode missing values with 'special' category (missing = 0 in a binary setup, \"unknown\" in categorical\", \"9999\" in numeric)\n",
    "* Replace with mean/median/mode of column\n",
    "\n",
    "- Are Missing Values distributed randomly?\n",
    "* For the missing values in one distribution, eyeball distributions of other features grouped by NaN/not-NaN\n",
    "\n",
    "\n",
    "* Libraries for doing \"multiple imputation\" (i.e. not simply mode/mean/median of the column!)\n",
    "(1) https://pypi.python.org/pypi/fancyimpute\n",
    "    - turns out to be a nightmare to install\n",
    "    - http://stackoverflow.com/questions/34936450/installing-python-fancy-impute-module-for-k-nearest-neighbors-imputation-of-null\n",
    "    \n",
    "(2) statsmodels\n",
    "http://statsmodels.sourceforge.net/ (less specific but looks interesting!)\n",
    "http://gsocfrankcheng.blogspot.de/ (their blog on how to use it for 'MICE')\n",
    "\n",
    "(3) neural nets!\n",
    "http://stackoverflow.com/questions/32407621/impute-multiple-missing-values-in-a-feature-vector\n",
    "\n",
    "\n",
    "* Other keyphrase \"data augmentation\"\n",
    "\n",
    "\n"
   ]
  },
  {
   "cell_type": "code",
   "execution_count": 2,
   "metadata": {
    "collapsed": false
   },
   "outputs": [
    {
     "ename": "ImportError",
     "evalue": "No module named 'statsmodels.sandbox.mice'",
     "output_type": "error",
     "traceback": [
      "\u001b[1;31m---------------------------------------------------------------------------\u001b[0m",
      "\u001b[1;31mImportError\u001b[0m                               Traceback (most recent call last)",
      "\u001b[1;32m<ipython-input-2-5174262809e1>\u001b[0m in \u001b[0;36m<module>\u001b[1;34m()\u001b[0m\n\u001b[0;32m      4\u001b[0m \u001b[1;32mimport\u001b[0m \u001b[0mpandas\u001b[0m \u001b[1;32mas\u001b[0m \u001b[0mpd\u001b[0m\u001b[1;33m\u001b[0m\u001b[0m\n\u001b[0;32m      5\u001b[0m \u001b[1;32mimport\u001b[0m \u001b[0mstatsmodels\u001b[0m\u001b[1;33m.\u001b[0m\u001b[0mapi\u001b[0m \u001b[1;32mas\u001b[0m \u001b[0msm\u001b[0m\u001b[1;33m\u001b[0m\u001b[0m\n\u001b[1;32m----> 6\u001b[1;33m \u001b[1;32mfrom\u001b[0m \u001b[0mstatsmodels\u001b[0m\u001b[1;33m.\u001b[0m\u001b[0msandbox\u001b[0m\u001b[1;33m.\u001b[0m\u001b[0mmice\u001b[0m \u001b[1;32mimport\u001b[0m \u001b[0mmice\u001b[0m\u001b[1;33m\u001b[0m\u001b[0m\n\u001b[0m\u001b[0;32m      7\u001b[0m \u001b[0mdata\u001b[0m \u001b[1;33m=\u001b[0m \u001b[0mpd\u001b[0m\u001b[1;33m.\u001b[0m\u001b[0mread_csv\u001b[0m\u001b[1;33m(\u001b[0m\u001b[1;34m'directory_here'\u001b[0m\u001b[1;33m)\u001b[0m\u001b[1;33m\u001b[0m\u001b[0m\n\u001b[0;32m      8\u001b[0m \u001b[0mimpdata\u001b[0m \u001b[1;33m=\u001b[0m \u001b[0mmice\u001b[0m\u001b[1;33m.\u001b[0m\u001b[0mImputedData\u001b[0m\u001b[1;33m(\u001b[0m\u001b[0mdata\u001b[0m\u001b[1;33m)\u001b[0m\u001b[1;33m\u001b[0m\u001b[0m\n",
      "\u001b[1;31mImportError\u001b[0m: No module named 'statsmodels.sandbox.mice'"
     ]
    }
   ],
   "source": [
    "# statsmodel multiple imputation test\n",
    "\n",
    "\n",
    "import pandas as pd\n",
    "import statsmodels.api as sm\n",
    "from statsmodels.sandbox.mice import mice\n",
    "data = pd.read_csv('directory_here')\n",
    "impdata = mice.ImputedData(data)\n",
    "m1 = impdata.new_imputer(\"x2\")\n",
    "m2 = impdata.new_imputer(\"x3\")\n",
    "m3 = impdata.new_imputer(\"x1\", model_class=sm.Logit)\n",
    "impcomb = mice.MICE(\"x1 ~ x2 + x3\", sm.Logit, [m1,m2,m3])\n",
    "p1 = impcomb.combine(iternum=20, skipnum=10)"
   ]
  },
  {
   "cell_type": "code",
   "execution_count": null,
   "metadata": {
    "collapsed": true
   },
   "outputs": [],
   "source": []
  },
  {
   "cell_type": "code",
   "execution_count": null,
   "metadata": {
    "collapsed": true
   },
   "outputs": [],
   "source": []
  },
  {
   "cell_type": "raw",
   "metadata": {},
   "source": [
    "FITTING AND OUTPUTTING SCORE"
   ]
  },
  {
   "cell_type": "code",
   "execution_count": null,
   "metadata": {
    "collapsed": true
   },
   "outputs": [],
   "source": []
  },
  {
   "cell_type": "code",
   "execution_count": null,
   "metadata": {
    "collapsed": true
   },
   "outputs": [],
   "source": []
  },
  {
   "cell_type": "code",
   "execution_count": 272,
   "metadata": {
    "collapsed": false
   },
   "outputs": [
    {
     "name": "stdout",
     "output_type": "stream",
     "text": [
      "0.783389450056\n"
     ]
    }
   ],
   "source": [
    "# The columns we'll use to predict the target\n",
    "predictors = [\"Pclass\", \"Sex\", \"Age\", \"SibSp\", \"Parch\", \"Fare\", \"Embarked\"]\n",
    "\n",
    "# Initialize our algorithm class\n",
    "alg = LinearRegression()\n",
    "# Generate cross validation folds for the titanic dataset.  It return the row indices corresponding to train and test.\n",
    "# We set random_state to ensure we get the same splits every time we run this.\n",
    "kf = KFold(titanic.shape[0], n_folds=3) #, random_state=1\n",
    "\n",
    "predictions = []\n",
    "for train, test in kf:\n",
    "    # The predictors we're using the train the algorithm.  Note how we only take the rows in the train folds.\n",
    "    train_predictors = (titanic[predictors].iloc[train,:])\n",
    "    # The target we're using to train the algorithm.\n",
    "    train_target = titanic[\"Survived\"].iloc[train]\n",
    "    # Training the algorithm using the predictors and target.\n",
    "    alg.fit(train_predictors, train_target)\n",
    "    # We can now make predictions on the test fold\n",
    "    test_predictions = alg.predict(titanic[predictors].iloc[test,:])\n",
    "    predictions.append(test_predictions)\n",
    "    \n",
    "\n",
    "# The predictions are in three separate numpy arrays.  Concatenate them into one.  \n",
    "# We concatenate them on axis 0, as they only have one axis.\n",
    "predictions = np.concatenate(predictions, axis=0)    \n",
    "\n",
    "# Map predictions to outcomes (only possible outcomes are 1 and 0)\n",
    "predictions[predictions > .5] = 1\n",
    "predictions[predictions <=.5] = 0\n",
    "\n",
    "#accuracy = predictions\n",
    "#titanic[\"Survived\"]\n",
    "accuracy = sum(predictions == titanic[\"Survived\"]) / len(predictions)\n",
    "print(accuracy)\n",
    "\n"
   ]
  },
  {
   "cell_type": "code",
   "execution_count": 273,
   "metadata": {
    "collapsed": false
   },
   "outputs": [
    {
     "name": "stdout",
     "output_type": "stream",
     "text": [
      "0.785634118967\n"
     ]
    }
   ],
   "source": [
    "# Initialize our algorithm\n",
    "alg = LogisticRegression(random_state=1)\n",
    "# Compute the accuracy score for all the cross validation folds.  (much simpler than what we did before!)\n",
    "scores = cross_validation.cross_val_score(alg, titanic[predictors], titanic[\"Survived\"], cv=3)\n",
    "# Take the mean of the scores (because we have one for each fold)\n",
    "print(scores.mean())"
   ]
  },
  {
   "cell_type": "code",
   "execution_count": 274,
   "metadata": {
    "collapsed": false
   },
   "outputs": [
    {
     "name": "stdout",
     "output_type": "stream",
     "text": [
      "0.79797979798\n"
     ]
    }
   ],
   "source": [
    "predictors = [\"Pclass\", \"Sex\", \"Age\", \"SibSp\", \"Parch\", \"Fare\", \"Embarked\"]\n",
    "\n",
    "# Initialize our algorithm with the default paramters\n",
    "# n_estimators is the number of trees we want to make\n",
    "# min_samples_split is the minimum number of rows we need to make a split\n",
    "# min_samples_leaf is the minimum number of samples we can have at the place where a tree branch ends (the bottom points of the tree)\n",
    "alg = RandomForestClassifier(random_state=1, n_estimators=10, min_samples_split=2, min_samples_leaf=1)\n",
    "\n",
    "# Compute the accuracy score for all the cross validation folds.  (much simpler than what we did before!)\n",
    "scores = cross_validation.cross_val_score(alg, titanic[predictors], titanic[\"Survived\"], cv=3)\n",
    "# Take the mean of the scores (because we have one for each fold)\n",
    "print(scores.mean())"
   ]
  },
  {
   "cell_type": "code",
   "execution_count": 275,
   "metadata": {
    "collapsed": false
   },
   "outputs": [
    {
     "name": "stdout",
     "output_type": "stream",
     "text": [
      "0.829405162738\n"
     ]
    }
   ],
   "source": [
    "alg = RandomForestClassifier(random_state=1, n_estimators=150, min_samples_split=4, min_samples_leaf=2)\n",
    "scores = cross_validation.cross_val_score(alg, titanic[predictors], titanic[\"Survived\"], cv=3)\n",
    "# Take the mean of the scores (because we have one for each fold)\n",
    "print(scores.mean())"
   ]
  },
  {
   "cell_type": "code",
   "execution_count": 276,
   "metadata": {
    "collapsed": false
   },
   "outputs": [
    {
     "name": "stdout",
     "output_type": "stream",
     "text": [
      "0.819304152637\n"
     ]
    }
   ],
   "source": [
    "alg = GradientBoostingClassifier(random_state=1, n_estimators=25, max_depth=3)\n",
    "predictors = [\"Pclass\", \"Sex\", \"Age\", \"Fare\", \"Embarked\", \"FamilySize\", \"Title\", \"FamilyId\"]\n",
    "scores = cross_validation.cross_val_score(alg, titanic[predictors], titanic[\"Survived\"], cv=3)\n",
    "# Take the mean of the scores (because we have one for each fold)\n",
    "print(scores.mean())"
   ]
  },
  {
   "cell_type": "code",
   "execution_count": 277,
   "metadata": {
    "collapsed": false
   },
   "outputs": [
    {
     "name": "stdout",
     "output_type": "stream",
     "text": [
      "0.835016835017\n"
     ]
    }
   ],
   "source": [
    "# ENSEMBLE EXAMPLE\n",
    "\n",
    "# The algorithms we want to ensemble.\n",
    "# We're using the more linear predictors for the logistic regression, and everything with the gradient boosting classifier.\n",
    "algorithms = [\n",
    "    [GradientBoostingClassifier(random_state=1, n_estimators=25, max_depth=3), [\"Pclass\", \"Sex\", \"Age\", \"Fare\", \"Embarked\", \"FamilySize\", \"Title\", \"FamilyId\"]],\n",
    "    [RandomForestClassifier(random_state=1, n_estimators=150, min_samples_split=4, min_samples_leaf=2), [\"Pclass\", \"Sex\", \"Fare\", \"FamilySize\", \"Title\", \"Age\", \"Embarked\"]]\n",
    "]\n",
    "\n",
    "# Initialize the cross validation folds\n",
    "kf = KFold(titanic.shape[0], n_folds=3, random_state=1)\n",
    "\n",
    "predictions = []\n",
    "for train, test in kf:\n",
    "    train_target = titanic[\"Survived\"].iloc[train]\n",
    "    full_test_predictions = []\n",
    "    # Make predictions for each algorithm on each fold\n",
    "    for alg, predictors in algorithms:\n",
    "        # Fit the algorithm on the training data.\n",
    "        alg.fit( titanic[predictors].iloc[train,:], train_target )\n",
    "        # Select and predict on the test fold.  \n",
    "        # The .astype(float) is necessary to convert the dataframe to all floats and avoid an sklearn error.\n",
    "        test_predictions = alg.predict_proba(titanic[predictors].iloc[test,:].astype(float))[:,1]\n",
    "        full_test_predictions.append(test_predictions)\n",
    "    # Use a simple ensembling scheme -- just average the predictions to get the final classification.\n",
    "    test_predictions = (full_test_predictions[0] + full_test_predictions[1]) / 2\n",
    "    # Any value over .5 is assumed to be a 1 prediction, and below .5 is a 0 prediction.\n",
    "    test_predictions[test_predictions <= .5] = 0\n",
    "    test_predictions[test_predictions > .5] = 1\n",
    "    predictions.append(test_predictions)\n",
    "\n",
    "# Put all the predictions together into one array.\n",
    "predictions = np.concatenate(predictions, axis=0)\n",
    "\n",
    "# Compute accuracy by comparing to the training data.\n",
    "accuracy = sum(  predictions == titanic[\"Survived\"] ) / len(predictions)\n",
    "\n",
    "print(accuracy)"
   ]
  },
  {
   "cell_type": "raw",
   "metadata": {},
   "source": [
    "PRODUCE KAGGLE OUTPUT"
   ]
  },
  {
   "cell_type": "code",
   "execution_count": 278,
   "metadata": {
    "collapsed": true
   },
   "outputs": [],
   "source": [
    "import pd\n",
    "#https://www.kaggle.com/c/titanic/download/test.csv\n",
    "titanic_test = pd.read_csv(\"titanic_test.csv\")\n",
    "# use the median age from the traing set\n",
    "titanic_test[\"Age\"] = titanic_test[\"Age\"].fillna(titanic[\"Age\"].median())\n",
    "# extra column with some missing empty in the test set\n",
    "titanic_test[\"Fare\"] = titanic_test[\"Fare\"].fillna(titanic_test[\"Fare\"].median())\n",
    "titanic_test.loc[titanic_test[\"Sex\"] == \"male\", \"Sex\"] = 0\n",
    "titanic_test.loc[titanic_test[\"Sex\"] == \"female\", \"Sex\"] = 1\n",
    "titanic_test[\"Embarked\"] = titanic_test[\"Embarked\"].fillna(\"S\")\n",
    "titanic_test.loc[titanic_test[\"Embarked\"] == \"S\", \"Embarked\"] = 0\n",
    "titanic_test.loc[titanic_test[\"Embarked\"] == \"C\", \"Embarked\"] = 1\n",
    "titanic_test.loc[titanic_test[\"Embarked\"] == \"Q\", \"Embarked\"] = 2"
   ]
  },
  {
   "cell_type": "code",
   "execution_count": 279,
   "metadata": {
    "collapsed": false
   },
   "outputs": [],
   "source": [
    "# First, we'll add titles to the test set.\n",
    "titles = titanic_test[\"Name\"].apply(get_title)\n",
    "# We're adding the Dona title to the mapping, because it's in the test set, but not the training set\n",
    "title_mapping = {\"Mr\": 1, \"Miss\": 2, \"Mrs\": 3, \"Master\": 4, \"Dr\": 5, \"Rev\": 6, \"Major\": 7, \"Col\": 7, \"Mlle\": 8, \"Mme\": 8, \"Don\": 9, \"Lady\": 10, \"Countess\": 10, \"Jonkheer\": 10, \"Sir\": 9, \"Capt\": 7, \"Ms\": 2, \"Dona\": 10}\n",
    "for k,v in title_mapping.items():\n",
    "    titles[titles == k] = v\n",
    "titanic_test[\"Title\"] = titles\n",
    "# Check the counts of each unique title.\n",
    "#print(pd.value_counts(titanic_test[\"Title\"]))\n",
    "\n",
    "# Now, we add the family size column.\n",
    "titanic_test[\"FamilySize\"] = titanic_test[\"SibSp\"] + titanic_test[\"Parch\"]\n",
    "\n",
    "# Now we can add family ids.\n",
    "# We'll use the same ids that we did earlier.\n",
    "#print(family_id_mapping)\n",
    "\n",
    "family_ids = titanic_test.apply(get_family_id, axis=1)\n",
    "family_ids[titanic_test[\"FamilySize\"] < 3] = -1\n",
    "titanic_test[\"FamilyId\"] = family_ids\n",
    "\n",
    "# The .apply method generates a new series\n",
    "titanic_test[\"NameLength\"] = titanic_test[\"Name\"].apply(lambda x: len(x))"
   ]
  },
  {
   "cell_type": "code",
   "execution_count": 280,
   "metadata": {
    "collapsed": true
   },
   "outputs": [],
   "source": [
    "predictors = [\"Pclass\", \"Sex\", \"Age\", \"Fare\", \"Embarked\", \"FamilySize\", \"Title\", \"FamilyId\"]\n",
    "\n",
    "algorithms = [\n",
    "    [GradientBoostingClassifier(random_state=1, n_estimators=25, max_depth=3), predictors],\n",
    "    [LogisticRegression(random_state=1), [\"Pclass\", \"Sex\", \"Fare\", \"FamilySize\", \"Title\", \"Age\", \"Embarked\"]]\n",
    "]\n",
    "\n",
    "full_predictions = []\n",
    "for alg, predictors in algorithms:\n",
    "    # Fit the algorithm using the full training data.\n",
    "    alg.fit(titanic[predictors], titanic[\"Survived\"])\n",
    "    # Predict using the test dataset.  We have to convert all the columns to floats to avoid an error.\n",
    "    predictions = alg.predict_proba(titanic_test[predictors].astype(float))[:,1]\n",
    "    full_predictions.append(predictions)\n",
    "\n",
    "# The gradient boosting classifier generates better predictions, so we weight it higher.\n",
    "predictions = (full_predictions[0] * 3 + full_predictions[1]) / 4\n",
    "\n",
    "\n",
    "# Map predictions to outcomes (only possible outcomes are 1 and 0)\n",
    "predictions[predictions > .5] = 1\n",
    "predictions[predictions <=.5] = 0\n",
    "\n",
    "predictions=predictions.astype(int)\n",
    "\n",
    "# Create a new dataframe with only the columns Kaggle wants from the dataset.\n",
    "submission = pd.DataFrame({\n",
    "        \"PassengerId\": titanic_test[\"PassengerId\"],\n",
    "        \"Survived\": predictions\n",
    "    })\n",
    "    \n",
    "#submission.to_csv(\"kaggle.csv\", index=False)    "
   ]
  },
  {
   "cell_type": "code",
   "execution_count": null,
   "metadata": {
    "collapsed": true
   },
   "outputs": [],
   "source": [
    "\n"
   ]
  },
  {
   "cell_type": "code",
   "execution_count": 281,
   "metadata": {
    "collapsed": false
   },
   "outputs": [],
   "source": [
    "# # turn panda array into \n",
    "# num_tit = titanic[predictors]\n",
    "# cols = num_tit.columns.values\n",
    "# num_tit_scaled = StandardScaler().fit_transform(num_tit)\n",
    "\n",
    "# num_tit = pd.DataFrame(num_tit_scaled,columns = cols)\n",
    "\n",
    "\n",
    "# # pd.DataFrame(data=data[1:,1:],    # values\n",
    "# # ...              index=data[1:,0],    # 1st column as index\n",
    "# # ...              columns=data[0,1:])  # 1st row as the column names"
   ]
  },
  {
   "cell_type": "code",
   "execution_count": 282,
   "metadata": {
    "collapsed": false
   },
   "outputs": [
    {
     "name": "stdout",
     "output_type": "stream",
     "text": [
      "       Pclass       Sex       Age     SibSp     Parch      Fare  Embarked  \\\n",
      "0    0.827377 -0.737695 -0.497793  0.432793 -0.473674 -0.502445 -0.568837   \n",
      "1   -1.566107  1.355574  0.715048  0.432793 -0.473674  0.786845  1.005181   \n",
      "2    0.827377  1.355574 -0.194583 -0.474545 -0.473674 -0.488854 -0.568837   \n",
      "3   -1.566107  1.355574  0.487640  0.432793 -0.473674  0.420730 -0.568837   \n",
      "4    0.827377 -0.737695  0.487640 -0.474545 -0.473674 -0.486337 -0.568837   \n",
      "5    0.827377 -0.737695 -0.346188 -0.474545 -0.473674 -0.478116  2.579199   \n",
      "6   -1.566107 -0.737695  1.927889 -0.474545 -0.473674  0.395814 -0.568837   \n",
      "7    0.827377 -0.737695 -2.013845  2.247470  0.767630 -0.224083 -0.568837   \n",
      "8    0.827377  1.355574 -0.118780 -0.474545  2.008933 -0.424256 -0.568837   \n",
      "9   -0.369365  1.355574 -1.104214  0.432793 -0.473674 -0.042956  1.005181   \n",
      "10   0.827377  1.355574 -1.862240  0.432793  0.767630 -0.312172 -0.568837   \n",
      "11  -1.566107  1.355574  2.231100 -0.474545 -0.473674 -0.113846 -0.568837   \n",
      "12   0.827377 -0.737695 -0.649398 -0.474545 -0.473674 -0.486337 -0.568837   \n",
      "13   0.827377 -0.737695  0.790851  0.432793  5.732844 -0.018709 -0.568837   \n",
      "14   0.827377  1.355574 -1.104214 -0.474545 -0.473674 -0.490280 -0.568837   \n",
      "15  -0.369365  1.355574  2.003692 -0.474545 -0.473674 -0.326267 -0.568837   \n",
      "16   0.827377 -0.737695 -2.013845  3.154809  0.767630 -0.061999  2.579199   \n",
      "17  -0.369365 -0.737695 -0.346188 -0.474545 -0.473674 -0.386671 -0.568837   \n",
      "18   0.827377  1.355574  0.184430  0.432793 -0.473674 -0.285997 -0.568837   \n",
      "19   0.827377  1.355574 -0.346188 -0.474545 -0.473674 -0.502949  1.005181   \n",
      "20  -0.369365 -0.737695  0.487640 -0.474545 -0.473674 -0.124920 -0.568837   \n",
      "21  -0.369365 -0.737695  0.411838 -0.474545 -0.473674 -0.386671 -0.568837   \n",
      "22   0.827377  1.355574 -1.028411 -0.474545 -0.473674 -0.486756  2.579199   \n",
      "23  -1.566107 -0.737695 -0.042978 -0.474545 -0.473674  0.066360 -0.568837   \n",
      "24   0.827377  1.355574 -1.559029  2.247470  0.767630 -0.224083 -0.568837   \n",
      "25   0.827377  1.355574  0.715048  0.432793  5.732844 -0.016444 -0.568837   \n",
      "26   0.827377 -0.737695 -0.346188 -0.474545 -0.473674 -0.502949  1.005181   \n",
      "27  -1.566107 -0.737695 -0.725201  2.247470  2.008933  4.647001 -0.568837   \n",
      "28   0.827377  1.355574 -0.346188 -0.474545 -0.473674 -0.489776  2.579199   \n",
      "29   0.827377 -0.737695 -0.346188 -0.474545 -0.473674 -0.489442 -0.568837   \n",
      "..        ...       ...       ...       ...       ...       ...       ...   \n",
      "861 -0.369365 -0.737695 -0.573596  0.432793 -0.473674 -0.416873 -0.568837   \n",
      "862 -1.566107  1.355574  1.473074 -0.474545 -0.473674 -0.126345 -0.568837   \n",
      "863  0.827377  1.355574 -0.346188  6.784163  2.008933  0.751946 -0.568837   \n",
      "864 -0.369365 -0.737695 -0.346188 -0.474545 -0.473674 -0.386671 -0.568837   \n",
      "865 -0.369365  1.355574  1.018258 -0.474545 -0.473674 -0.386671 -0.568837   \n",
      "866 -0.369365  1.355574 -0.118780  0.432793 -0.473674 -0.369389  1.005181   \n",
      "867 -1.566107 -0.737695  0.184430 -0.474545 -0.473674  0.368295 -0.568837   \n",
      "868  0.827377 -0.737695 -0.346188 -0.474545 -0.473674 -0.457142 -0.568837   \n",
      "869  0.827377 -0.737695 -1.862240  0.432793  0.767630 -0.424256 -0.568837   \n",
      "870  0.827377 -0.737695 -0.194583 -0.474545 -0.473674 -0.489442 -0.568837   \n",
      "871 -1.566107  1.355574  1.397271  0.432793  0.767630  0.409741 -0.568837   \n",
      "872 -1.566107 -0.737695  0.336035 -0.474545 -0.473674 -0.547748 -0.568837   \n",
      "873  0.827377 -0.737695  1.397271 -0.474545 -0.473674 -0.467209 -0.568837   \n",
      "874 -0.369365  1.355574 -0.042978  0.432793 -0.473674 -0.165189  1.005181   \n",
      "875  0.827377  1.355574 -1.028411 -0.474545 -0.473674 -0.502949  1.005181   \n",
      "876  0.827377 -0.737695 -0.649398 -0.474545 -0.473674 -0.450180 -0.568837   \n",
      "877  0.827377 -0.737695 -0.725201 -0.474545 -0.473674 -0.489442 -0.568837   \n",
      "878  0.827377 -0.737695 -0.346188 -0.474545 -0.473674 -0.489442 -0.568837   \n",
      "879 -1.566107  1.355574  2.079495 -0.474545  0.767630  1.025945  1.005181   \n",
      "880 -0.369365  1.355574 -0.270386 -0.474545  0.767630 -0.124920 -0.568837   \n",
      "881  0.827377 -0.737695  0.336035 -0.474545 -0.473674 -0.489442 -0.568837   \n",
      "882  0.827377  1.355574 -0.497793 -0.474545 -0.473674 -0.436671 -0.568837   \n",
      "883 -0.369365 -0.737695 -0.042978 -0.474545 -0.473674 -0.437007 -0.568837   \n",
      "884  0.827377 -0.737695 -0.270386 -0.474545 -0.473674 -0.506472 -0.568837   \n",
      "885  0.827377  1.355574  0.790851 -0.474545  5.732844 -0.061999  2.579199   \n",
      "886 -0.369365 -0.737695 -0.118780 -0.474545 -0.473674 -0.386671 -0.568837   \n",
      "887 -1.566107  1.355574 -0.725201 -0.474545 -0.473674 -0.044381 -0.568837   \n",
      "888  0.827377  1.355574 -0.346188  0.432793  2.008933 -0.176263 -0.568837   \n",
      "889 -1.566107 -0.737695 -0.194583 -0.474545 -0.473674 -0.044381  1.005181   \n",
      "890  0.827377 -0.737695  0.260233 -0.474545 -0.473674 -0.492378  2.579199   \n",
      "\n",
      "     FamilySize     Title  FamilyId  Survived  \n",
      "0      0.059160 -0.621285 -0.218081         0  \n",
      "1      0.059160  0.949111 -0.218081         1  \n",
      "2     -0.560975  0.163913 -0.218081         1  \n",
      "3      0.059160  0.949111 -0.218081         1  \n",
      "4     -0.560975 -0.621285 -0.218081         0  \n",
      "5     -0.560975 -0.621285 -0.218081         0  \n",
      "6     -0.560975 -0.621285 -0.218081         0  \n",
      "7      1.919564  1.734309 -0.089228         0  \n",
      "8      0.679295  0.949111 -0.218081         1  \n",
      "9      0.059160  0.949111 -0.218081         1  \n",
      "10     0.679295  0.163913 -0.218081         1  \n",
      "11    -0.560975  0.163913 -0.218081         1  \n",
      "12    -0.560975 -0.621285 -0.218081         0  \n",
      "13     3.159833 -0.621285 -0.003326         0  \n",
      "14    -0.560975  0.163913 -0.218081         0  \n",
      "15    -0.560975  0.949111 -0.218081         1  \n",
      "16     2.539699  1.734309  0.039625         0  \n",
      "17    -0.560975 -0.621285 -0.218081         1  \n",
      "18     0.059160  0.949111 -0.218081         0  \n",
      "19    -0.560975  0.949111 -0.218081         1  \n",
      "20    -0.560975 -0.621285 -0.218081         0  \n",
      "21    -0.560975 -0.621285 -0.218081         1  \n",
      "22    -0.560975  0.163913 -0.218081         1  \n",
      "23    -0.560975 -0.621285 -0.218081         1  \n",
      "24     1.919564  0.163913 -0.089228         0  \n",
      "25     3.159833  0.949111  0.154161         1  \n",
      "26    -0.560975 -0.621285 -0.218081         0  \n",
      "27     2.539699 -0.621285  0.182795         0  \n",
      "28    -0.560975  0.163913 -0.218081         1  \n",
      "29    -0.560975 -0.621285 -0.218081         0  \n",
      "..          ...       ...       ...       ...  \n",
      "861    0.059160 -0.621285 -0.218081         0  \n",
      "862   -0.560975  0.949111 -0.218081         1  \n",
      "863    5.640372  0.163913  1.929466         0  \n",
      "864   -0.560975 -0.621285 -0.218081         0  \n",
      "865   -0.560975  0.949111 -0.218081         1  \n",
      "866    0.059160  0.163913 -0.218081         1  \n",
      "867   -0.560975 -0.621285 -0.218081         0  \n",
      "868   -0.560975 -0.621285 -0.218081         0  \n",
      "869    0.679295  1.734309 -0.218081         1  \n",
      "870   -0.560975 -0.621285 -0.218081         0  \n",
      "871    0.679295  0.949111 -0.218081         1  \n",
      "872   -0.560975 -0.621285 -0.218081         0  \n",
      "873   -0.560975 -0.621285 -0.218081         0  \n",
      "874    0.059160  0.949111 -0.218081         1  \n",
      "875   -0.560975  0.163913 -0.218081         1  \n",
      "876   -0.560975 -0.621285 -0.218081         0  \n",
      "877   -0.560975 -0.621285 -0.218081         0  \n",
      "878   -0.560975 -0.621285 -0.218081         0  \n",
      "879    0.059160  0.949111 -0.218081         1  \n",
      "880    0.059160  0.949111 -0.218081         1  \n",
      "881   -0.560975 -0.621285 -0.218081         0  \n",
      "882   -0.560975  0.163913 -0.218081         0  \n",
      "883   -0.560975 -0.621285 -0.218081         0  \n",
      "884   -0.560975 -0.621285 -0.218081         0  \n",
      "885    2.539699  0.949111  0.039625         0  \n",
      "886   -0.560975  3.304705 -0.218081         0  \n",
      "887   -0.560975  0.163913 -0.218081         1  \n",
      "888    1.299429  0.163913  8.858884         0  \n",
      "889   -0.560975 -0.621285 -0.218081         1  \n",
      "890   -0.560975 -0.621285 -0.218081         0  \n",
      "\n",
      "[891 rows x 11 columns]\n"
     ]
    }
   ],
   "source": []
  },
  {
   "cell_type": "code",
   "execution_count": null,
   "metadata": {
    "collapsed": true
   },
   "outputs": [],
   "source": []
  }
 ],
 "metadata": {
  "kernelspec": {
   "display_name": "Python 3",
   "language": "python",
   "name": "python3"
  },
  "language_info": {
   "codemirror_mode": {
    "name": "ipython",
    "version": 3
   },
   "file_extension": ".py",
   "mimetype": "text/x-python",
   "name": "python",
   "nbconvert_exporter": "python",
   "pygments_lexer": "ipython3",
   "version": "3.5.1"
  }
 },
 "nbformat": 4,
 "nbformat_minor": 0
}
